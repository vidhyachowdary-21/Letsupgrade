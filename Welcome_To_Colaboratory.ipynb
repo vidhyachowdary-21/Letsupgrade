def evenodd(x):
  if(x%2==0):
    print('Even!')
  else:
    print('odd!')
x=int(input())
evenodd(x)
